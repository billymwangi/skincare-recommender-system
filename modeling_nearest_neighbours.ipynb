{
  "nbformat": 4,
  "nbformat_minor": 0,
  "metadata": {
    "colab": {
      "provenance": []
    },
    "kernelspec": {
      "name": "python3",
      "display_name": "Python 3"
    },
    "language_info": {
      "name": "python"
    }
  },
  "cells": [
    {
      "cell_type": "code",
      "execution_count": null,
      "metadata": {
        "id": "ocoev3PrB7sP"
      },
      "outputs": [],
      "source": [
        "#importing relevant libraries\n",
        "import pandas as pd\n",
        "import numpy as np\n",
        "import json\n",
        "import matplotlib.pyplot as plt\n",
        "%matplotlib inline\n",
        "import seaborn as sns\n",
        "import plotly.subplots as sp\n",
        "import plotly.graph_objects as go\n",
        "import warnings\n",
        "warnings.filterwarnings(\"ignore\")\n",
        "from scipy.stats import skew\n",
        "from scipy.sparse import csr_matrix\n",
        "from sklearn.model_selection import train_test_split\n",
        "from sklearn.metrics import accuracy_score\n",
        "from sklearn.metrics import average_precision_score"
      ]
    },
    {
      "cell_type": "code",
      "source": [
        "from google.colab import drive\n",
        "drive.mount('/content/drive')"
      ],
      "metadata": {
        "colab": {
          "base_uri": "https://localhost:8080/"
        },
        "id": "7wN6bsLACCp_",
        "outputId": "03f201af-10e2-4b6c-e822-6f0382fe0f9a"
      },
      "execution_count": null,
      "outputs": [
        {
          "output_type": "stream",
          "name": "stdout",
          "text": [
            "Drive already mounted at /content/drive; to attempt to forcibly remount, call drive.mount(\"/content/drive\", force_remount=True).\n"
          ]
        }
      ]
    },
    {
      "cell_type": "code",
      "source": [
        "new_data = pd.read_csv('/content/drive/MyDrive/new-data.csv')"
      ],
      "metadata": {
        "id": "TOETGy7cCILl"
      },
      "execution_count": null,
      "outputs": []
    },
    {
      "cell_type": "code",
      "source": [
        "new_data.shape"
      ],
      "metadata": {
        "colab": {
          "base_uri": "https://localhost:8080/"
        },
        "id": "F-4nbVm7CI-G",
        "outputId": "4ebedcbc-bbf7-4c89-e936-e1ddd0156a70"
      },
      "execution_count": null,
      "outputs": [
        {
          "output_type": "execute_result",
          "data": {
            "text/plain": [
              "(630808, 22)"
            ]
          },
          "metadata": {},
          "execution_count": 36
        }
      ]
    },
    {
      "cell_type": "code",
      "source": [
        "new_data.duplicated().sum()"
      ],
      "metadata": {
        "colab": {
          "base_uri": "https://localhost:8080/"
        },
        "id": "uxtfnGEXDUJn",
        "outputId": "c2ad37e3-d96c-4c41-8cf8-c4ec41c08399"
      },
      "execution_count": null,
      "outputs": [
        {
          "output_type": "execute_result",
          "data": {
            "text/plain": [
              "0"
            ]
          },
          "metadata": {},
          "execution_count": 37
        }
      ]
    },
    {
      "cell_type": "code",
      "source": [
        "new_data.columns"
      ],
      "metadata": {
        "colab": {
          "base_uri": "https://localhost:8080/"
        },
        "id": "X5siR8sbDhlj",
        "outputId": "406f163a-395c-43ba-8d7a-ae4533ee640e"
      },
      "execution_count": null,
      "outputs": [
        {
          "output_type": "execute_result",
          "data": {
            "text/plain": [
              "Index(['Unnamed: 0', 'author_id', 'product_id', 'product_name_x',\n",
              "       'brand_name_x', 'loves_count', 'rating_x', 'reviews', 'size',\n",
              "       'ingredients', 'price_usd_x', 'highlights', 'primary_category',\n",
              "       'secondary_category', 'tertiary_category', 'is_recommended',\n",
              "       'helpfulness', 'review_text', 'skin_tone', 'eye_color', 'skin_type',\n",
              "       'hair_color'],\n",
              "      dtype='object')"
            ]
          },
          "metadata": {},
          "execution_count": 38
        }
      ]
    },
    {
      "cell_type": "code",
      "source": [
        "new_data = new_data.drop(['Unnamed: 0'], axis=1)"
      ],
      "metadata": {
        "id": "dX-Io1I2Dkbf"
      },
      "execution_count": null,
      "outputs": []
    },
    {
      "cell_type": "code",
      "source": [
        "new_data.shape"
      ],
      "metadata": {
        "colab": {
          "base_uri": "https://localhost:8080/"
        },
        "id": "eMyDS2MdDlWs",
        "outputId": "97093355-bb72-4367-b6f9-d23e0437070b"
      },
      "execution_count": null,
      "outputs": [
        {
          "output_type": "execute_result",
          "data": {
            "text/plain": [
              "(630808, 21)"
            ]
          },
          "metadata": {},
          "execution_count": 40
        }
      ]
    },
    {
      "cell_type": "code",
      "source": [],
      "metadata": {
        "id": "N7n1321PuN3E"
      },
      "execution_count": null,
      "outputs": []
    },
    {
      "cell_type": "markdown",
      "source": [
        "### Data Preprocessing"
      ],
      "metadata": {
        "id": "Pu2POd4HD5gL"
      }
    },
    {
      "cell_type": "code",
      "source": [
        "new_data_1= new_data.drop(['product_id','author_id','size', 'ingredients', 'highlights', 'primary_category',\n",
        "                           'secondary_category', 'review_text','brand_name_x', 'tertiary_category', 'reviews'], axis=1)"
      ],
      "metadata": {
        "id": "A3twtC7qD5LD"
      },
      "execution_count": null,
      "outputs": []
    },
    {
      "cell_type": "code",
      "source": [
        "new_data_1.shape"
      ],
      "metadata": {
        "colab": {
          "base_uri": "https://localhost:8080/"
        },
        "id": "cGHn_mDgEGmL",
        "outputId": "f602520e-4e08-45a2-e974-a7b67eff3cf6"
      },
      "execution_count": null,
      "outputs": [
        {
          "output_type": "execute_result",
          "data": {
            "text/plain": [
              "(630808, 10)"
            ]
          },
          "metadata": {},
          "execution_count": 42
        }
      ]
    },
    {
      "cell_type": "code",
      "source": [
        "new_data_1.columns"
      ],
      "metadata": {
        "colab": {
          "base_uri": "https://localhost:8080/"
        },
        "id": "FxYsfg3MV1_J",
        "outputId": "826ad971-7d88-4657-b203-b673164389d0"
      },
      "execution_count": null,
      "outputs": [
        {
          "output_type": "execute_result",
          "data": {
            "text/plain": [
              "Index(['product_name_x', 'loves_count', 'rating_x', 'price_usd_x',\n",
              "       'is_recommended', 'helpfulness', 'skin_tone', 'eye_color', 'skin_type',\n",
              "       'hair_color'],\n",
              "      dtype='object')"
            ]
          },
          "metadata": {},
          "execution_count": 43
        }
      ]
    },
    {
      "cell_type": "markdown",
      "source": [
        "### OHE"
      ],
      "metadata": {
        "id": "qFxz7CT0Ept8"
      }
    },
    {
      "cell_type": "code",
      "source": [
        "# Categorical columns to one-hot encode\n",
        "categorical_cols = ['product_name_x', 'skin_tone', 'eye_color', 'hair_color', 'skin_type']\n",
        "df_encoded = pd.get_dummies(new_data_1, columns=categorical_cols)"
      ],
      "metadata": {
        "id": "WzTZehuTEZlp"
      },
      "execution_count": null,
      "outputs": []
    },
    {
      "cell_type": "code",
      "source": [
        "df_encoded.shape"
      ],
      "metadata": {
        "colab": {
          "base_uri": "https://localhost:8080/"
        },
        "id": "t-XhZ4z2Ec6Y",
        "outputId": "03a9fe37-f7fd-4746-8285-7fcde517a3b4"
      },
      "execution_count": null,
      "outputs": [
        {
          "output_type": "execute_result",
          "data": {
            "text/plain": [
              "(630808, 1549)"
            ]
          },
          "metadata": {},
          "execution_count": 45
        }
      ]
    },
    {
      "cell_type": "markdown",
      "source": [
        "### Checking for Skewness & Log Transformation"
      ],
      "metadata": {
        "id": "cbYmMY-KEuUo"
      }
    },
    {
      "cell_type": "code",
      "source": [
        "def check_skewness(data):\n",
        "    skewness = {}\n",
        "    interpretation = {}\n",
        "    for column in data.columns:\n",
        "        # Convert the column data to a NumPy array\n",
        "        column_data = np.array(data[column])\n",
        "        # Calculate the skewness of the column data\n",
        "        column_skewness = skew(column_data)\n",
        "        skewness[column] = column_skewness\n",
        "        # Interpret the skewness value\n",
        "        if column_skewness < -1:\n",
        "            interpretation[column] = \"Highly left-skewed\"\n",
        "        elif -1 <= column_skewness < -0.5:\n",
        "            interpretation[column] = \"Moderately left-skewed\"\n",
        "        elif -0.5 <= column_skewness <= 0.5:\n",
        "            interpretation[column] = \"Approximately symmetric\"\n",
        "        elif 0.5 < column_skewness < 1:\n",
        "            interpretation[column] = \"Moderately right-skewed\"\n",
        "        else:\n",
        "            interpretation[column] = \"Highly right-skewed\"\n",
        "    return skewness, interpretation\n",
        "\n",
        "columns = [\"loves_count\", \"rating_x\", \"price_usd_x\"]\n",
        "skewness, interpretation = check_skewness(df_encoded[columns])\n",
        "for column in columns:\n",
        "    print(\"Skewness for\", column, \":\", skewness[column])\n",
        "    print(\"Interpretation for\", column, \":\", interpretation[column])\n",
        "    print()"
      ],
      "metadata": {
        "colab": {
          "base_uri": "https://localhost:8080/"
        },
        "id": "OI7x56ieJwAv",
        "outputId": "4084de12-b9d6-456c-e3b8-50d5c3458bed"
      },
      "execution_count": null,
      "outputs": [
        {
          "output_type": "stream",
          "name": "stdout",
          "text": [
            "Skewness for loves_count : 2.3711238911442045\n",
            "Interpretation for loves_count : Highly right-skewed\n",
            "\n",
            "Skewness for rating_x : -0.9422155184528447\n",
            "Interpretation for rating_x : Moderately left-skewed\n",
            "\n",
            "Skewness for price_usd_x : 3.4259434143105993\n",
            "Interpretation for price_usd_x : Highly right-skewed\n",
            "\n"
          ]
        }
      ]
    },
    {
      "cell_type": "code",
      "source": [
        "# Create a new DataFrame for log-transformed values\n",
        "\n",
        "# Perform log transformation for each column\n",
        "for column in ['loves_count','price_usd_x' ]:\n",
        "    df_encoded[column] = np.log(df_encoded[column])"
      ],
      "metadata": {
        "id": "NCZJJc1SFp_-"
      },
      "execution_count": null,
      "outputs": []
    },
    {
      "cell_type": "markdown",
      "source": [
        "### Scaling the data"
      ],
      "metadata": {
        "id": "DZuusvO8O601"
      }
    },
    {
      "cell_type": "code",
      "source": [
        "import numpy as np\n",
        "from sklearn.preprocessing import MinMaxScaler\n",
        "\n",
        "# Numerical columns to scale the data\n",
        "numerical_cols = ['loves_count', 'price_usd_x', 'rating_x']\n",
        "\n",
        "# Clip the values to a reasonable range\n",
        "clip_min = -1e9  # Define the minimum value to clip\n",
        "clip_max = 1e9   # Define the maximum value to clip\n",
        "df_encoded[numerical_cols] = np.clip(df_encoded[numerical_cols], clip_min, clip_max)\n",
        "\n",
        "# Scale the data\n",
        "scaler = MinMaxScaler()\n",
        "df_scaled = scaler.fit_transform(df_encoded[numerical_cols])\n",
        "# Assign the scaled data to the variable df_scaled\n",
        "df_scaled = pd.DataFrame(df_scaled, columns=numerical_cols)\n"
      ],
      "metadata": {
        "id": "mQmHIqojSpqw"
      },
      "execution_count": null,
      "outputs": []
    },
    {
      "cell_type": "code",
      "source": [
        "df_scaled.columns"
      ],
      "metadata": {
        "colab": {
          "base_uri": "https://localhost:8080/"
        },
        "id": "AWTYOpg8P4wX",
        "outputId": "0e51f3f3-30da-4387-b0a5-ec3eb309b8cd"
      },
      "execution_count": null,
      "outputs": [
        {
          "output_type": "execute_result",
          "data": {
            "text/plain": [
              "Index(['loves_count', 'price_usd_x', 'rating_x'], dtype='object')"
            ]
          },
          "metadata": {},
          "execution_count": 49
        }
      ]
    },
    {
      "cell_type": "code",
      "source": [
        "# Exclude numerical columns\n",
        "# Numerical columns to scale the data\n",
        "numerical_cols = ['loves_count', 'price_usd_x', 'rating_x']\n",
        "\n",
        "categorical_cols = [col for col in df_encoded.columns if col not in numerical_cols]\n",
        "\n",
        "# Concatenate the scaled data with df_encoded\n",
        "df_concatenated = pd.concat([df_encoded[categorical_cols], df_scaled], axis=1)"
      ],
      "metadata": {
        "id": "sj9jYD_KRzx0"
      },
      "execution_count": null,
      "outputs": []
    },
    {
      "cell_type": "markdown",
      "source": [
        "### Nearest Neighbours"
      ],
      "metadata": {
        "id": "Qn7OJ9Q_wU9l"
      }
    },
    {
      "cell_type": "code",
      "source": [
        "df_encoded.shape"
      ],
      "metadata": {
        "colab": {
          "base_uri": "https://localhost:8080/"
        },
        "id": "qxVbYCI_widY",
        "outputId": "b0cac78e-9f61-4d1b-c979-45edcb49f918"
      },
      "execution_count": null,
      "outputs": [
        {
          "output_type": "execute_result",
          "data": {
            "text/plain": [
              "(630808, 1549)"
            ]
          },
          "metadata": {},
          "execution_count": 51
        }
      ]
    },
    {
      "cell_type": "code",
      "source": [
        "sample_size = len(df_encoded) // 4  # Calculate the sample size\n",
        "\n",
        "sample_1 = df_encoded.sample(n=sample_size, random_state=42)  # First sample"
      ],
      "metadata": {
        "id": "wfopiGRbwqD2"
      },
      "execution_count": null,
      "outputs": []
    },
    {
      "cell_type": "code",
      "source": [
        "sample_1.shape"
      ],
      "metadata": {
        "colab": {
          "base_uri": "https://localhost:8080/"
        },
        "id": "_n_YfM_Cwqpl",
        "outputId": "05bc50e6-14b5-4ae1-ee5a-c56dbf9b656c"
      },
      "execution_count": null,
      "outputs": [
        {
          "output_type": "execute_result",
          "data": {
            "text/plain": [
              "(157702, 1549)"
            ]
          },
          "metadata": {},
          "execution_count": 53
        }
      ]
    },
    {
      "cell_type": "code",
      "source": [
        "from sklearn.neighbors import NearestNeighbors\n",
        "# instantiating Nearest Neighbors\n",
        "nearest_neighbor_model = NearestNeighbors(metric='cosine', algorithm='brute')\n",
        "\n",
        "#fitting the model to the sparse matrix\n",
        "model_1 = nearest_neighbor_model.fit(sample_1)"
      ],
      "metadata": {
        "id": "oMDLYANLwxA_"
      },
      "execution_count": null,
      "outputs": []
    },
    {
      "cell_type": "markdown",
      "source": [
        "### Making a prediction based on user data"
      ],
      "metadata": {
        "id": "vgjt5PRNw2i4"
      }
    },
    {
      "cell_type": "code",
      "source": [
        "# Create a DataFrame with user attributes\n",
        "user_data = pd.DataFrame({\n",
        "    'product_name_x': [''],\n",
        "    'skin_tone': ['medium'],\n",
        "    'eye_color': ['blue'],\n",
        "    'skin_type': ['combination'],\n",
        "    'hair_color': ['black'],\n",
        "    'rating_x': [4.5413],\n",
        "    'price_usd_x': [50],\n",
        "    'is_recommended': [1],\n",
        "    'helpfulness': [1]\n",
        "})\n",
        "\n",
        "# Apply one-hot encoding to user attributes\n",
        "user_encoded = pd.get_dummies(user_data, columns=['skin_tone', 'eye_color', 'skin_type', 'hair_color'])"
      ],
      "metadata": {
        "id": "Yfb62AIkw3S1"
      },
      "execution_count": null,
      "outputs": []
    },
    {
      "cell_type": "code",
      "source": [
        "user_encoded.columns"
      ],
      "metadata": {
        "colab": {
          "base_uri": "https://localhost:8080/"
        },
        "id": "GCk7nnH5w7eX",
        "outputId": "f689fa6d-5751-4147-c478-f1a3211f038e"
      },
      "execution_count": null,
      "outputs": [
        {
          "output_type": "execute_result",
          "data": {
            "text/plain": [
              "Index(['product_name_x', 'rating_x', 'price_usd_x', 'is_recommended',\n",
              "       'helpfulness', 'skin_tone_medium', 'eye_color_blue',\n",
              "       'skin_type_combination', 'hair_color_black'],\n",
              "      dtype='object')"
            ]
          },
          "metadata": {},
          "execution_count": 56
        }
      ]
    },
    {
      "cell_type": "code",
      "source": [
        "# Reindex the user_encoded DataFrame to match the training data's columns\n",
        "user_encoded = user_encoded.reindex(columns=sample_1.columns, fill_value=0)"
      ],
      "metadata": {
        "id": "HzSYMcXBw-2e"
      },
      "execution_count": null,
      "outputs": []
    },
    {
      "cell_type": "code",
      "source": [
        "# Find the nearest neighbors of the user data\n",
        "distances, indices = model_1.kneighbors(user_encoded)"
      ],
      "metadata": {
        "id": "hWiVJhwHxEZA"
      },
      "execution_count": null,
      "outputs": []
    },
    {
      "cell_type": "code",
      "source": [
        "# Find the nearest neighbors of the user data\n",
        "distances, indices = model_1.kneighbors(user_encoded)\n",
        "\n",
        "# Retrieve the recommended product name x from the nearest neighbors\n",
        "recommended_product_name_x = sample_1.index[indices[0][0]]\n",
        "recommended_product_name_x"
      ],
      "metadata": {
        "colab": {
          "base_uri": "https://localhost:8080/"
        },
        "id": "N06Qh5u5xHn9",
        "outputId": "bc515990-dfb3-4a59-9a6e-249d5beca7c9"
      },
      "execution_count": null,
      "outputs": [
        {
          "output_type": "execute_result",
          "data": {
            "text/plain": [
              "240312"
            ]
          },
          "metadata": {},
          "execution_count": 59
        }
      ]
    },
    {
      "cell_type": "code",
      "source": [
        "recommended_product_row = sample_1.loc[recommended_product_name_x]\n",
        "column_name = recommended_product_row.index[recommended_product_row.index.str.startswith('product_name_x')][0]\n",
        "column_name"
      ],
      "metadata": {
        "colab": {
          "base_uri": "https://localhost:8080/",
          "height": 35
        },
        "id": "ywVCY5kL6wMY",
        "outputId": "7afdcc7c-df09-4448-f767-81eb819dfd98"
      },
      "execution_count": null,
      "outputs": [
        {
          "output_type": "execute_result",
          "data": {
            "text/plain": [
              "'product_name_x_\"B\" Oil'"
            ],
            "application/vnd.google.colaboratory.intrinsic+json": {
              "type": "string"
            }
          },
          "metadata": {},
          "execution_count": 60
        }
      ]
    },
    {
      "cell_type": "markdown",
      "source": [
        "### Nearest Neighbours- Baseline Model\n",
        "\n"
      ],
      "metadata": {
        "id": "vyNLKmcVTMF_"
      }
    },
    {
      "cell_type": "code",
      "source": [
        "# create a mapping from unique author IDs and product names to indices\n",
        "author_ids = new_data['author_id'].unique()\n",
        "author_id_to_index = {id: index for index, id in enumerate(author_ids)}\n",
        "product_names = new_data['product_name_x'].unique()\n",
        "product_name_to_index = {id: index for index, id in enumerate(product_names)}\n",
        "# get the indices for the sparse matrix\n",
        "row_indices = np.array([author_id_to_index[id] for id in new_data['author_id']])\n",
        "col_indices = np.array([product_name_to_index[id] for id in new_data['product_name_x']])\n",
        "ratings = np.array(new_data['rating_x'])\n",
        "# create the sparse matrix\n",
        "sparse_matrix = csr_matrix((ratings, (row_indices, col_indices)), shape=(len(author_ids), len(product_names)))"
      ],
      "metadata": {
        "id": "XiCuofyJaT4a"
      },
      "execution_count": null,
      "outputs": []
    },
    {
      "cell_type": "code",
      "source": [
        "sparse_matrix"
      ],
      "metadata": {
        "colab": {
          "base_uri": "https://localhost:8080/"
        },
        "id": "nno49XFneWGI",
        "outputId": "d4a6b1f7-aac6-4d1c-c2b1-fb3fdf2e6103"
      },
      "execution_count": null,
      "outputs": [
        {
          "output_type": "execute_result",
          "data": {
            "text/plain": [
              "<364274x1513 sparse matrix of type '<class 'numpy.float64'>'\n",
              "\twith 629695 stored elements in Compressed Sparse Row format>"
            ]
          },
          "metadata": {},
          "execution_count": 62
        }
      ]
    },
    {
      "cell_type": "code",
      "source": [
        "from sklearn.neighbors import NearestNeighbors\n",
        "# instantiating Nearest Neighbors\n",
        "nearest_neighbor_model = NearestNeighbors(metric='cosine', algorithm='brute')\n",
        "\n",
        "#fitting the model to the sparse matrix\n",
        "model = nearest_neighbor_model.fit(sparse_matrix)"
      ],
      "metadata": {
        "id": "x9LcrhbYT1aL"
      },
      "execution_count": null,
      "outputs": []
    },
    {
      "cell_type": "code",
      "source": [
        "def recommend_product(product_name):\n",
        "    # Finding the index of the product in the pivot table\n",
        "    product_index = product_name_to_index[product_name]\n",
        "\n",
        "    # Finding the nearest neighbors of the given product\n",
        "    distances, indices = model.kneighbors(sparse_matrix.getrow(product_index), n_neighbors=5)\n",
        "\n",
        "    # Creating a list of recommended products\n",
        "    recommended_products = []\n",
        "    for index in indices.flatten():\n",
        "        recommended_products.append(product_names[index])\n",
        "\n",
        "    return recommended_products\n"
      ],
      "metadata": {
        "id": "BjuBqXrbhUx0"
      },
      "execution_count": null,
      "outputs": []
    },
    {
      "cell_type": "code",
      "source": [
        "recommend_product('1% Vitamin A Retinol Serum')"
      ],
      "metadata": {
        "colab": {
          "base_uri": "https://localhost:8080/"
        },
        "id": "qYHe7KZ3UU7-",
        "outputId": "d71ae2c0-008a-4924-d5d0-71017d317c92"
      },
      "execution_count": null,
      "outputs": [
        {
          "output_type": "execute_result",
          "data": {
            "text/plain": [
              "['The Moisturizing Matte Lotion',\n",
              " 'The Eye Balm Intense',\n",
              " 'The Moisturizing Soft Lotion',\n",
              " 'The Cleansing Foam',\n",
              " 'The Lifting and Firming Mask']"
            ]
          },
          "metadata": {},
          "execution_count": 65
        }
      ]
    }
  ]
}