{
  "nbformat": 4,
  "nbformat_minor": 0,
  "metadata": {
    "colab": {
      "provenance": []
    },
    "kernelspec": {
      "name": "python3",
      "display_name": "Python 3"
    },
    "language_info": {
      "name": "python"
    }
  },
  "cells": [
    {
      "cell_type": "code",
      "source": [
        "    # !pip install surprise"
      ],
      "metadata": {
        "id": "xOmngl3kHvaU"
      },
      "execution_count": null,
      "outputs": []
    },
    {
      "cell_type": "code",
      "execution_count": null,
      "metadata": {
        "id": "fQHiK5I1A21y"
      },
      "outputs": [],
      "source": [
        "#importing relevant libraries\n",
        "import pandas as pd\n",
        "import numpy as np\n",
        "import json\n",
        "import matplotlib.pyplot as plt\n",
        "%matplotlib inline\n",
        "import seaborn as sns\n",
        "import plotly.subplots as sp\n",
        "import plotly.graph_objects as go\n",
        "import warnings\n",
        "warnings.filterwarnings(\"ignore\")\n",
        "from scipy.stats import skew\n",
        "from scipy.sparse import csr_matrix\n",
        "from sklearn.model_selection import train_test_split\n",
        "from sklearn.metrics import accuracy_score\n",
        "from sklearn.metrics import average_precision_score\n",
        "\n",
        "from surprise import SVDpp\n",
        "from sklearn.metrics import mean_squared_error\n",
        "from surprise import KNNBasic\n",
        "from surprise import SVD\n",
        "from surprise import Reader,Dataset\n",
        "from surprise import accuracy\n",
        "from surprise.model_selection import cross_validate, train_test_split\n",
        "from sklearn.pipeline import Pipeline\n"
      ]
    },
    {
      "cell_type": "code",
      "source": [
        "# from google.colab import drive\n",
        "# drive.mount('/content/drive')"
      ],
      "metadata": {
        "id": "fmqBJtqwA_-w"
      },
      "execution_count": null,
      "outputs": []
    },
    {
      "cell_type": "code",
      "source": [
        "new_data = pd.read_csv('/content/drive/MyDrive/new-data.csv')"
      ],
      "metadata": {
        "id": "YHyYRT7kBPLG"
      },
      "execution_count": null,
      "outputs": []
    },
    {
      "cell_type": "code",
      "source": [
        "new_data = new_data.drop(['Unnamed: 0'], axis=1)"
      ],
      "metadata": {
        "id": "1xqGO_dzBVJj"
      },
      "execution_count": null,
      "outputs": []
    },
    {
      "cell_type": "code",
      "source": [
        "new_data.shape"
      ],
      "metadata": {
        "id": "4trJEwCBBWCO",
        "colab": {
          "base_uri": "https://localhost:8080/"
        },
        "outputId": "b84330b4-01cd-4eef-dd15-a284bd65f9ec"
      },
      "execution_count": null,
      "outputs": [
        {
          "output_type": "execute_result",
          "data": {
            "text/plain": [
              "(630808, 21)"
            ]
          },
          "metadata": {},
          "execution_count": 15
        }
      ]
    },
    {
      "cell_type": "code",
      "source": [
        "new_data.columns"
      ],
      "metadata": {
        "id": "jqYTOOrFiFXb",
        "colab": {
          "base_uri": "https://localhost:8080/"
        },
        "outputId": "8bfa8d66-6404-4e7e-9cfa-8ceb0aa12b11"
      },
      "execution_count": null,
      "outputs": [
        {
          "output_type": "execute_result",
          "data": {
            "text/plain": [
              "Index(['author_id', 'product_id', 'product_name_x', 'brand_name_x',\n",
              "       'loves_count', 'rating_x', 'reviews', 'size', 'ingredients',\n",
              "       'price_usd_x', 'highlights', 'primary_category', 'secondary_category',\n",
              "       'tertiary_category', 'is_recommended', 'helpfulness', 'review_text',\n",
              "       'skin_tone', 'eye_color', 'skin_type', 'hair_color'],\n",
              "      dtype='object')"
            ]
          },
          "metadata": {},
          "execution_count": 16
        }
      ]
    },
    {
      "cell_type": "code",
      "source": [
        "new_data.secondary_category.value_counts()"
      ],
      "metadata": {
        "colab": {
          "base_uri": "https://localhost:8080/"
        },
        "id": "sfI3cgjhNTUA",
        "outputId": "95affe9d-1740-4685-e25e-becd0c461dbb"
      },
      "execution_count": null,
      "outputs": [
        {
          "output_type": "execute_result",
          "data": {
            "text/plain": [
              "Moisturizers       195305\n",
              "Treatments         165198\n",
              "Cleansers          133061\n",
              "Eye Care            48481\n",
              "Masks               42314\n",
              "Sunscreen           31010\n",
              "Self Tanners         8652\n",
              "Wellness             5828\n",
              "High Tech Tools       959\n",
              "Name: secondary_category, dtype: int64"
            ]
          },
          "metadata": {},
          "execution_count": 17
        }
      ]
    },
    {
      "cell_type": "code",
      "source": [
        "new_data.tertiary_category.value_counts()"
      ],
      "metadata": {
        "colab": {
          "base_uri": "https://localhost:8080/"
        },
        "id": "7Plat0C-OR0w",
        "outputId": "f02f4e86-324a-4718-a9e2-68f61d46d23b"
      },
      "execution_count": null,
      "outputs": [
        {
          "output_type": "execute_result",
          "data": {
            "text/plain": [
              "Moisturizers                 140309\n",
              "Face Serums                  135560\n",
              "Face Wash & Cleansers         79961\n",
              "Eye Creams & Treatments       44685\n",
              "Face Masks                    40414\n",
              "Face Sunscreen                30276\n",
              "Toners                        25168\n",
              "Mists & Essences              22099\n",
              "Face Oils                     20734\n",
              "Facial Peels                  19634\n",
              "Exfoliators                   17061\n",
              "Blemish & Acne Treatments     10004\n",
              "Makeup Removers                7516\n",
              "BB & CC Creams                 6862\n",
              "For Face                       5358\n",
              "Beauty Supplements             5254\n",
              "Night Creams                   4662\n",
              "Eye Masks                      3796\n",
              "Face Wipes                     3355\n",
              "For Body                       3294\n",
              "Sheet Masks                    1900\n",
              "Teeth Whitening                 762\n",
              "Body Sunscreen                  734\n",
              "Decollete & Neck Creams         639\n",
              "Holistic Wellness               338\n",
              "Facial Rollers                  236\n",
              "Anti-Aging                      197\n",
              "Name: tertiary_category, dtype: int64"
            ]
          },
          "metadata": {},
          "execution_count": 18
        }
      ]
    },
    {
      "cell_type": "code",
      "source": [
        "len(new_data.tertiary_category.value_counts())"
      ],
      "metadata": {
        "colab": {
          "base_uri": "https://localhost:8080/"
        },
        "id": "tK_jiN_ZPORD",
        "outputId": "2001547d-1165-4e2b-9aee-14375a5d11a5"
      },
      "execution_count": null,
      "outputs": [
        {
          "output_type": "execute_result",
          "data": {
            "text/plain": [
              "27"
            ]
          },
          "metadata": {},
          "execution_count": 19
        }
      ]
    },
    {
      "cell_type": "code",
      "source": [
        "new_data.price_usd_x.describe()"
      ],
      "metadata": {
        "colab": {
          "base_uri": "https://localhost:8080/"
        },
        "id": "XItWACL02901",
        "outputId": "05f2e317-332a-4ffe-baad-66dbcc11d401"
      },
      "execution_count": null,
      "outputs": [
        {
          "output_type": "execute_result",
          "data": {
            "text/plain": [
              "count    630808.000000\n",
              "mean         54.049957\n",
              "std          41.285970\n",
              "min           3.000000\n",
              "25%          32.000000\n",
              "50%          46.000000\n",
              "75%          68.000000\n",
              "max         425.000000\n",
              "Name: price_usd_x, dtype: float64"
            ]
          },
          "metadata": {},
          "execution_count": 20
        }
      ]
    },
    {
      "cell_type": "code",
      "source": [
        "new_data.highlights[5000]"
      ],
      "metadata": {
        "colab": {
          "base_uri": "https://localhost:8080/",
          "height": 35
        },
        "id": "Q8yw1hSQal3T",
        "outputId": "ef759e2b-de09-4561-af2e-eb15e29d705d"
      },
      "execution_count": null,
      "outputs": [
        {
          "output_type": "execute_result",
          "data": {
            "text/plain": [
              "\"['Hyaluronic Acid', 'Best for Dry Skin', 'Good for: Loss of firmness', 'Clean + Planet Positive', 'Good for: Anti-Aging', 'Cruelty-Free']\""
            ],
            "application/vnd.google.colaboratory.intrinsic+json": {
              "type": "string"
            }
          },
          "metadata": {},
          "execution_count": 22
        }
      ]
    },
    {
      "cell_type": "markdown",
      "source": [
        "### Preprocessing"
      ],
      "metadata": {
        "id": "L5SR4nWmLK_J"
      }
    },
    {
      "cell_type": "code",
      "source": [
        "# Engineer the price_range column\n",
        "def engineer_price_range(price):\n",
        "    if price < 32:\n",
        "        return 'low'\n",
        "    elif price < 68:\n",
        "        return 'medium'\n",
        "    else:\n",
        "        return 'high'\n",
        "\n",
        "new_data['price_range'] = new_data['price_usd_x'].apply(engineer_price_range)"
      ],
      "metadata": {
        "id": "rm-MDzuMLRXe"
      },
      "execution_count": null,
      "outputs": []
    },
    {
      "cell_type": "markdown",
      "source": [
        "### Modeling"
      ],
      "metadata": {
        "id": "INqjsZjJMFBg"
      }
    },
    {
      "cell_type": "code",
      "source": [
        "# Generate recommendations based on user input\n",
        "def generate_recommendation(price_range, tertiary_category, skin_type, skin_tone, model):\n",
        "    # Filter products based on user input criteria\n",
        "    filtered_data = new_data[\n",
        "        (new_data['price_range'] == price_range) &\n",
        "        (new_data['tertiary_category'] == tertiary_category) &\n",
        "        (new_data['skin_type'] == skin_type) &\n",
        "        (new_data['skin_tone'] == skin_tone)\n",
        "    ]\n",
        "   # Select a random product from the filtered data\n",
        "    if not filtered_data.empty:\n",
        "        product = filtered_data.sample(n=1)\n",
        "        product_id = product['product_id'].iloc[0]\n",
        "\n",
        "        # Generate prediction for the selected product\n",
        "        prediction = model.predict('new_user', product_id)\n",
        "\n",
        "        # Return product name and ingredients\n",
        "        product_name = product['product_name_x'].iloc[0]\n",
        "        ingredients = product['ingredients'].iloc[0]\n",
        "\n",
        "        return product_name, ingredients\n",
        "\n",
        "    return None, None"
      ],
      "metadata": {
        "id": "HWb8vDFwMNKx"
      },
      "execution_count": null,
      "outputs": []
    },
    {
      "cell_type": "markdown",
      "source": [
        "### KNNBasic- Baseline Model"
      ],
      "metadata": {
        "id": "8JUpeSQkMSFp"
      }
    },
    {
      "cell_type": "code",
      "source": [
        "sample_data=new_data.sample(n=20000, random_state=42)"
      ],
      "metadata": {
        "id": "pCNNBhBrMYl6"
      },
      "execution_count": null,
      "outputs": []
    },
    {
      "cell_type": "code",
      "source": [
        "# Prepare the data for Surprise library\n",
        "reader = Reader(rating_scale=(1, 5))\n",
        "\n",
        "data = Dataset.load_from_df(sample_data[['author_id', 'product_id', 'rating_x']], reader)\n",
        "trainset1, testset1 = train_test_split(data, test_size=0.2, random_state=42)"
      ],
      "metadata": {
        "id": "xl2s1OfqMfR5"
      },
      "execution_count": null,
      "outputs": []
    },
    {
      "cell_type": "code",
      "source": [
        "model1 = KNNBasic(random_state=42)\n",
        "model1.fit(trainset1)"
      ],
      "metadata": {
        "colab": {
          "base_uri": "https://localhost:8080/"
        },
        "id": "aWxFGLZtMhz6",
        "outputId": "4b7a99b6-60e8-41d5-c2f8-26066de0c104"
      },
      "execution_count": null,
      "outputs": [
        {
          "output_type": "stream",
          "name": "stdout",
          "text": [
            "Computing the msd similarity matrix...\n",
            "Done computing similarity matrix.\n"
          ]
        },
        {
          "output_type": "execute_result",
          "data": {
            "text/plain": [
              "<surprise.prediction_algorithms.knns.KNNBasic at 0x7d33e445c760>"
            ]
          },
          "metadata": {},
          "execution_count": 16
        }
      ]
    },
    {
      "cell_type": "code",
      "source": [
        "# Evaluate the recommendation model\n",
        "predictions = model1.test(testset1)\n",
        "\n",
        "# Calculate RMSE score\n",
        "rmse = accuracy.rmse(predictions)\n",
        "print(\"RMSE:\", rmse)"
      ],
      "metadata": {
        "colab": {
          "base_uri": "https://localhost:8080/"
        },
        "id": "6KcZeFZJOhTO",
        "outputId": "93049de9-bbcc-46fa-cd99-c686af23ac1f"
      },
      "execution_count": null,
      "outputs": [
        {
          "output_type": "stream",
          "name": "stdout",
          "text": [
            "RMSE: 0.2725\n",
            "RMSE: 0.27252509097857475\n"
          ]
        }
      ]
    },
    {
      "cell_type": "code",
      "source": [
        "# Example usage\n",
        "price_range ='medium'\n",
        "tertiary_category = 'Toners'\n",
        "skin_type = 'oily'\n",
        "skin_tone = 'light'\n",
        "\n",
        "product_name, ingredients = generate_recommendation(price_range, tertiary_category, skin_type, skin_tone, model1)\n",
        "\n",
        "if product_name is not None:\n",
        "    print(\"Recommended Product:\", product_name)\n",
        "    print(\"Ingredients:\", ingredients)\n",
        "else:\n",
        "    print(\"No recommendation found for the given input criteria.\")"
      ],
      "metadata": {
        "colab": {
          "base_uri": "https://localhost:8080/"
        },
        "id": "niBBka8INRaH",
        "outputId": "a3f0983e-02f0-4140-ef06-cac3ac295b78"
      },
      "execution_count": null,
      "outputs": [
        {
          "output_type": "stream",
          "name": "stdout",
          "text": [
            "Recommended Product: Ready Steady Glow Daily AHA Tonic\n",
            "Ingredients: ['Aqua (Water), Sodium Lactate, Lactic Acid, Heptyl Glucoside, Potassium Azeloyl Diglycinate, Triethyl Citrate, Glyceryl Caprylate, Salix Nigra (Willow) Bark Extract, Benzoic Acid, Citrus Nobilis (Mandarin) Peel Oil, Citrus Aurantium Dulcis (Orange) Flower Oil, Citrus Grandis (Grapefruit) Peel Oil, Citrus Tangerina (Tangerine) Peel Oil, Heptanol, Parfum (Fragrance), Limonene.']\n"
          ]
        }
      ]
    },
    {
      "cell_type": "markdown",
      "source": [
        "### SVD"
      ],
      "metadata": {
        "id": "KQLd6YR7Bvhm"
      }
    },
    {
      "cell_type": "code",
      "source": [
        "# !pip install surprise"
      ],
      "metadata": {
        "id": "ODMQbZkzC-TC"
      },
      "execution_count": null,
      "outputs": []
    },
    {
      "cell_type": "code",
      "source": [
        "# Prepare the data for Surprise library\n",
        "reader = Reader(rating_scale=(1, 5))\n",
        "\n",
        "data = Dataset.load_from_df(new_data[['author_id', 'product_id', 'rating_x']], reader)\n",
        "trainset2, testset2 = train_test_split(data, test_size=0.2, random_state=42)"
      ],
      "metadata": {
        "id": "L1oRolGbOGjJ"
      },
      "execution_count": null,
      "outputs": []
    },
    {
      "cell_type": "code",
      "source": [
        "# Build and train the recommendation model\n",
        "model2 = SVD(random_state=42)\n",
        "model2.fit(trainset2)"
      ],
      "metadata": {
        "colab": {
          "base_uri": "https://localhost:8080/"
        },
        "id": "CbYlM12lOPDF",
        "outputId": "603739ff-412b-4d71-bd5f-87018cd6548e"
      },
      "execution_count": null,
      "outputs": [
        {
          "output_type": "execute_result",
          "data": {
            "text/plain": [
              "<surprise.prediction_algorithms.matrix_factorization.SVD at 0x7d33e445dd20>"
            ]
          },
          "metadata": {},
          "execution_count": 21
        }
      ]
    },
    {
      "cell_type": "code",
      "source": [
        "# Evaluate the recommendation model\n",
        "predictions2 = model2.test(testset2)\n",
        "\n",
        "# Calculate RMSE score\n",
        "rmse = accuracy.rmse(predictions2)\n",
        "print(\"RMSE:\", rmse)"
      ],
      "metadata": {
        "colab": {
          "base_uri": "https://localhost:8080/"
        },
        "id": "9i_Ddrg6QWB_",
        "outputId": "0616682a-e4b7-4ede-97cd-77e3d57a8fa7"
      },
      "execution_count": null,
      "outputs": [
        {
          "output_type": "stream",
          "name": "stdout",
          "text": [
            "RMSE: 0.0338\n",
            "RMSE: 0.03378027216861353\n"
          ]
        }
      ]
    },
    {
      "cell_type": "code",
      "source": [
        "# Generate recommendations based on user input\n",
        "def generate_recommendation(price_range, tertiary_category, skin_type, skin_tone, model):\n",
        "    # Filter products based on user input criteria\n",
        "    filtered_data = new_data[\n",
        "        (new_data['price_range'] == price_range) &\n",
        "        (new_data['tertiary_category'] == tertiary_category) &\n",
        "        (new_data['skin_type'] == skin_type) &\n",
        "        (new_data['skin_tone'] == skin_tone)\n",
        "    ]\n",
        "   # Select a random product from the filtered data\n",
        "    if not filtered_data.empty:\n",
        "        sorted_data = filtered_data.sort_values(by='rating_x', ascending=False)\n",
        "        product = sorted_data.sample(n=1)\n",
        "        product_id = product['product_id'].iloc[0]\n",
        "\n",
        "        # Generate prediction for the selected product\n",
        "        prediction = model.predict('new_user', product_id)\n",
        "\n",
        "    #     # Return product name and ingredients\n",
        "    #     product_name = product['product_name_x'].iloc[0]\n",
        "    #     ingredients = product['ingredients'].iloc[0]\n",
        "\n",
        "    #     return product_name, ingredients\n",
        "    # return None, None"
      ],
      "metadata": {
        "id": "pl0z5LC4nEuM"
      },
      "execution_count": null,
      "outputs": []
    },
    {
      "cell_type": "code",
      "source": [
        "# Example usage\n",
        "price_range ='medium'\n",
        "tertiary_category = 'Toners'\n",
        "skin_type = 'oily'\n",
        "skin_tone = 'light'\n",
        "\n",
        "# product_name, ingredients = generate_recommendation(price_range, tertiary_category, skin_type, skin_tone, model2)\n",
        "prediction = generate_recommendation(price_range, tertiary_category, skin_type, skin_tone, model2)\n",
        "prediction\n",
        "\n",
        "# if product_name is not None:\n",
        "#     print(\"Recommended Product:\", product_name)\n",
        "#     print(\"Ingredients:\", ingredients)\n",
        "# else:\n",
        "#     print(\"No recommendation found for the given input criteria.\")"
      ],
      "metadata": {
        "id": "fKN3pHQcPWlH"
      },
      "execution_count": null,
      "outputs": []
    },
    {
      "cell_type": "markdown",
      "source": [
        "### SVDpp"
      ],
      "metadata": {
        "id": "MSu8Doo7FSUe"
      }
    },
    {
      "cell_type": "code",
      "source": [
        "# Build and train the recommendation model\n",
        "model3 = SVDpp(random_state=42)\n",
        "model3.fit(trainset2)# Build and train the recommendation model"
      ],
      "metadata": {
        "colab": {
          "base_uri": "https://localhost:8080/"
        },
        "id": "TnGkZkaQK-mg",
        "outputId": "96b0ee05-f1cc-49a9-9fe7-0581f5550c4f"
      },
      "execution_count": null,
      "outputs": [
        {
          "output_type": "execute_result",
          "data": {
            "text/plain": [
              "<surprise.prediction_algorithms.matrix_factorization.SVDpp at 0x7d33e444a260>"
            ]
          },
          "metadata": {},
          "execution_count": 25
        }
      ]
    },
    {
      "cell_type": "code",
      "source": [
        "# Evaluate the recommendation model\n",
        "predictions3 = model3.test(testset2)\n",
        "\n",
        "# Calculate RMSE score\n",
        "rmse = accuracy.rmse(predictions3)\n",
        "print(\"RMSE:\", rmse)"
      ],
      "metadata": {
        "colab": {
          "base_uri": "https://localhost:8080/"
        },
        "id": "HSXLjNdDP3hp",
        "outputId": "436350cb-f2ad-4fbe-a03c-195ec2a8c2b3"
      },
      "execution_count": null,
      "outputs": [
        {
          "output_type": "stream",
          "name": "stdout",
          "text": [
            "RMSE: 0.0275\n",
            "RMSE: 0.02745804616958275\n"
          ]
        }
      ]
    },
    {
      "cell_type": "code",
      "source": [
        "# Example usage\n",
        "price_range ='medium'\n",
        "tertiary_category = 'Toners'\n",
        "skin_type = 'oily'\n",
        "skin_tone = 'light'\n",
        "\n",
        "product_name, ingredients = generate_recommendation(price_range, tertiary_category, skin_type, skin_tone, model3)\n",
        "\n",
        "if product_name is not None:\n",
        "    print(\"Recommended Product:\", product_name)\n",
        "    print(\"Ingredients:\", ingredients)\n",
        "else:\n",
        "    print(\"No recommendation found for the given input criteria.\")"
      ],
      "metadata": {
        "colab": {
          "base_uri": "https://localhost:8080/",
          "height": 235
        },
        "id": "oF_8tSIGRHOp",
        "outputId": "29527a52-cf09-4861-ad4d-2f4dd0107886"
      },
      "execution_count": null,
      "outputs": [
        {
          "output_type": "error",
          "ename": "TypeError",
          "evalue": "ignored",
          "traceback": [
            "\u001b[0;31m---------------------------------------------------------------------------\u001b[0m",
            "\u001b[0;31mTypeError\u001b[0m                                 Traceback (most recent call last)",
            "\u001b[0;32m<ipython-input-27-69f746bcd2bb>\u001b[0m in \u001b[0;36m<cell line: 7>\u001b[0;34m()\u001b[0m\n\u001b[1;32m      5\u001b[0m \u001b[0mskin_tone\u001b[0m \u001b[0;34m=\u001b[0m \u001b[0;34m'light'\u001b[0m\u001b[0;34m\u001b[0m\u001b[0;34m\u001b[0m\u001b[0m\n\u001b[1;32m      6\u001b[0m \u001b[0;34m\u001b[0m\u001b[0m\n\u001b[0;32m----> 7\u001b[0;31m \u001b[0mproduct_name\u001b[0m\u001b[0;34m,\u001b[0m \u001b[0mingredients\u001b[0m \u001b[0;34m=\u001b[0m \u001b[0mgenerate_recommendation\u001b[0m\u001b[0;34m(\u001b[0m\u001b[0mprice_range\u001b[0m\u001b[0;34m,\u001b[0m \u001b[0mtertiary_category\u001b[0m\u001b[0;34m,\u001b[0m \u001b[0mskin_type\u001b[0m\u001b[0;34m,\u001b[0m \u001b[0mskin_tone\u001b[0m\u001b[0;34m,\u001b[0m \u001b[0mmodel3\u001b[0m\u001b[0;34m)\u001b[0m\u001b[0;34m\u001b[0m\u001b[0;34m\u001b[0m\u001b[0m\n\u001b[0m\u001b[1;32m      8\u001b[0m \u001b[0;34m\u001b[0m\u001b[0m\n\u001b[1;32m      9\u001b[0m \u001b[0;32mif\u001b[0m \u001b[0mproduct_name\u001b[0m \u001b[0;32mis\u001b[0m \u001b[0;32mnot\u001b[0m \u001b[0;32mNone\u001b[0m\u001b[0;34m:\u001b[0m\u001b[0;34m\u001b[0m\u001b[0;34m\u001b[0m\u001b[0m\n",
            "\u001b[0;31mTypeError\u001b[0m: cannot unpack non-iterable NoneType object"
          ]
        }
      ]
    },
    {
      "cell_type": "code",
      "source": [
        "from surprise import Reader, Dataset, SVD\n",
        "from surprise.model_selection import train_test_split\n",
        "from surprise.prediction_algorithms.matrix_factorization import SVD\n",
        "\n",
        "reader = Reader(rating_scale=(1, 5))\n",
        "data = Dataset.load_from_df(new_data[[\"author_id\", \"product_id\", \"rating_x\"]], reader)\n",
        "\n",
        "pipeline = Pipeline([\n",
        "    ('reader', reader),\n",
        "    ('load_data', data),\n",
        "    ('train_test_split', train_test_split(data, test_size=0.2, random_state=42)),\n",
        "    ('model', SVD(random_state=42,n_epochs=20, n_factors=1, biased=True, lr_all=0.005, reg_all=0.06))\n",
        "])\n"
      ],
      "metadata": {
        "id": "qM3MKSdD8KWT"
      },
      "execution_count": null,
      "outputs": []
    },
    {
      "cell_type": "markdown",
      "source": [
        "### Hyperparameter tuning"
      ],
      "metadata": {
        "id": "Zh37ciq1wdc5"
      }
    },
    {
      "cell_type": "code",
      "source": [
        "from surprise import SVD\n",
        "from surprise import Dataset, Reader\n",
        "from surprise.model_selection import cross_validate\n",
        "\n",
        "# Load the dataset\n",
        "reader = Reader(rating_scale=(1, 5))\n",
        "data = Dataset.load_from_df(new_data[[\"author_id\", \"product_id\", \"rating_x\"]], reader)\n",
        "\n",
        "# Define the parameter grid\n",
        "param_grid = {'n_epochs': [10, 20, 30], 'n_factors': [50, 100, 150], 'lr_all': [0.002, 0.005, 0.01], 'reg_all': [0.02, 0.04, 0.06]}\n",
        "\n",
        "# Perform grid search using cross-validation\n",
        "best_score = float('inf')\n",
        "best_params = {}\n",
        "\n",
        "for n_epochs in param_grid['n_epochs']:\n",
        "    for n_factors in param_grid['n_factors']:\n",
        "        for lr_all in param_grid['lr_all']:\n",
        "            for reg_all in param_grid['reg_all']:\n",
        "                # Create and evaluate the SVD model with the current parameters\n",
        "                model = SVD(n_epochs=n_epochs, n_factors=n_factors, lr_all=lr_all, reg_all=reg_all, random_state=42)\n",
        "                results = cross_validate(model, data, measures=['RMSE'], cv=3, verbose=False)\n",
        "\n",
        "                # Compute average RMSE score\n",
        "                avg_rmse = sum(results['test_rmse']) / len(results['test_rmse'])\n",
        "\n",
        "                # Check if current parameters yield a better score\n",
        "                if avg_rmse < best_score:\n",
        "                    best_score = avg_rmse\n",
        "                    best_params = {'n_epochs': n_epochs, 'n_factors': n_factors, 'lr_all': lr_all, 'reg_all': reg_all}\n",
        "\n",
        "# Print the best RMSE score and the corresponding parameters\n",
        "print(\"Best RMSE score:\", best_score)\n",
        "print(\"Best parameters:\", best_params)\n"
      ],
      "metadata": {
        "id": "mlIkriLzR4yp",
        "colab": {
          "base_uri": "https://localhost:8080/"
        },
        "outputId": "8c591c92-ee2f-4d37-d30d-11b40038ddf6"
      },
      "execution_count": null,
      "outputs": [
        {
          "output_type": "stream",
          "name": "stdout",
          "text": [
            "Best RMSE score: 0.019928819420548884\n",
            "Best parameters: {'n_epochs': 30, 'n_factors': 50, 'lr_all': 0.01, 'reg_all': 0.02}\n"
          ]
        }
      ]
    },
    {
      "cell_type": "code",
      "source": [
        "# ('model', SVD(n_epochs=20, n_factors=1, biased=True, lr_all=0.005, reg_all=0.06))"
      ],
      "metadata": {
        "id": "E6wFiD4C8U9J"
      },
      "execution_count": null,
      "outputs": []
    },
    {
      "cell_type": "code",
      "source": [
        "# import pickle\n"
      ],
      "metadata": {
        "id": "rPR23VTn8L9g"
      },
      "execution_count": null,
      "outputs": []
    },
    {
      "cell_type": "code",
      "source": [
        "# import pickle\n",
        "# # Save the model using pickle\n",
        "# with open('svdpp_model.pkl', 'wb') as f:\n",
        "#     pickle.dump(model3, f)\n",
        "\n",
        "# # Load the model from the pickle file\n",
        "# with open('svdpp_model.pkl', 'rb') as f:\n",
        "#     loaded_model = pickle.load(f)"
      ],
      "metadata": {
        "id": "YkL-TjDY7sQv"
      },
      "execution_count": null,
      "outputs": []
    }
  ]
}